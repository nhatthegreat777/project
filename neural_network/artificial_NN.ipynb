{
 "cells": [
  {
   "cell_type": "code",
   "execution_count": 3,
   "id": "cad569e2",
   "metadata": {},
   "outputs": [],
   "source": [
    "import numpy as np\n",
    "import pandas as pd"
   ]
  },
  {
   "cell_type": "code",
   "execution_count": 52,
   "id": "d357f934",
   "metadata": {},
   "outputs": [],
   "source": [
    "class Neural_Network:\n",
    "    def __init__(self, net):\n",
    "        self.layers = len(net)\n",
    "        self.net = net\n",
    "        self.biases = [np.random.randn(1,k) for k in net[1:]]\n",
    "        self.weights = [np.random.randn(j,k) for k,j in zip(net[:-1], net[1:])]\n",
    "        \n",
    "    \n",
    "    def SDG(self, data, epochs, mini_batch_size, testing_data=False):\n",
    "        if testing_data:\n",
    "            return self.evaluation()\n",
    "        data_length = len(data)\n",
    "        for x in range(epochs):\n",
    "            np.random.shuffle(data)\n",
    "            for batch in batched(data, mini_batch_size):\n",
    "                self.mini_batch_update(batch)\n",
    "                \n",
    "    def mini_batch_update(self, batch):\n",
    "        delta_b = [np.zeros(i.shape()) for i in self.biases]\n",
    "        delta_w = [np.zeros(i.shape()) for i in self.weights]\n",
    "        input_node = batch[0]\n",
    "        output_expected = batch[1]\n",
    "        for i in batch:\n",
    "            self.gradient_descent(batch)\n",
    "        pass\n",
    "            \n",
    "    def gradient_descent(self, batch):\n",
    "        learning_rate = 0.01\n",
    "        m = len(batch)\n",
    "        ws = []\n",
    "        bs = []\n",
    "        for data in batch:\n",
    "            z_node, a_node = self.feedforward(data[0])\n",
    "            output_error = []\n",
    "            e = np.squeeze(self.delta_cost(a_node[-1], data[1])*self.d_sigmoid(z_node[-1]))\n",
    "            output_error.append(e)\n",
    "            for l in range(len(self.net)):\n",
    "                e = np.squeeze(np.transpose(self.weight[-l])*e*self.d_sigmoid(z[-l]))\n",
    "                output_error.append(e)\n",
    "            \n",
    "        \n",
    "            \n",
    "            \n",
    "            \n",
    "    \n",
    "    def feedforward(self, input_node):\n",
    "        # Take in a training example\n",
    "        # output the z and a for each layer\n",
    "        temp = input_node\n",
    "        z = []\n",
    "        a = []\n",
    "        for w,b in zip(self.weights, self.biases):\n",
    "            temp = np.dot(w,temp) + b\n",
    "            z.append(temp)\n",
    "            temp = self.sigmoid(temp)\n",
    "            a.append(temp)\n",
    "        return z, a\n",
    "    \n",
    "    def delta_cost(self,output_node, label):\n",
    "        error = (output_node-label)\n",
    "        return error\n",
    "    \n",
    "    def back_propagation(self, input_node, label):\n",
    "        pass    \n",
    "    \n",
    "    def back_error(self, output_error, z):\n",
    "        pass\n",
    "    \n",
    "    def sigmoid(self, z):\n",
    "        pass\n",
    "        a = np.squeeze(1/(1+np.exp(-z)))\n",
    "        return a\n",
    "    \n",
    "    def d_sigmoid(self, z):\n",
    "        d_a = np.exp(-z)/((1+np.exp(-z))**2)\n",
    "        return d_a\n",
    "    \n",
    "    def evaluation(self):\n",
    "        pass"
   ]
  },
  {
   "cell_type": "code",
   "execution_count": 33,
   "id": "d505e22f",
   "metadata": {},
   "outputs": [],
   "source": [
    "net = [2,3,4]\n",
    "nn = Neural_Network(net)"
   ]
  },
  {
   "cell_type": "code",
   "execution_count": 53,
   "id": "376fb60b",
   "metadata": {},
   "outputs": [
    {
     "data": {
      "text/plain": [
       "3"
      ]
     },
     "execution_count": 53,
     "metadata": {},
     "output_type": "execute_result"
    }
   ],
   "source": [
    "net[-2]"
   ]
  },
  {
   "cell_type": "code",
   "execution_count": 27,
   "id": "b1d9162c",
   "metadata": {},
   "outputs": [
    {
     "name": "stdout",
     "output_type": "stream",
     "text": [
      "3\n",
      "2\n"
     ]
    }
   ],
   "source": [
    "for i in range(len(net),1,-1):\n",
    "    print(i)"
   ]
  },
  {
   "cell_type": "code",
   "execution_count": 34,
   "id": "ee521952",
   "metadata": {},
   "outputs": [],
   "source": [
    "test = [1,1]\n",
    "label = [1,2,3,4]\n",
    "z, a = nn.feedforward(test)"
   ]
  },
  {
   "cell_type": "code",
   "execution_count": 35,
   "id": "beb6d25a",
   "metadata": {},
   "outputs": [
    {
     "data": {
      "text/plain": [
       "array([-0.78213093, -1.4276628 , -2.29202317, -3.52853528])"
      ]
     },
     "execution_count": 35,
     "metadata": {},
     "output_type": "execute_result"
    }
   ],
   "source": [
    "c = nn.delta_cost(a[-1], label)\n",
    "c"
   ]
  },
  {
   "cell_type": "code",
   "execution_count": 38,
   "id": "da95090e",
   "metadata": {},
   "outputs": [
    {
     "data": {
      "text/plain": [
       "array([-0.13327678, -0.34944521, -0.4738658 , -0.87926067])"
      ]
     },
     "execution_count": 38,
     "metadata": {},
     "output_type": "execute_result"
    }
   ],
   "source": [
    "output_error = np.squeeze(nn.delta_cost(a[-1], label)*nn.d_sigmoid(z[-1]))\n",
    "output_error"
   ]
  }
 ],
 "metadata": {
  "kernelspec": {
   "display_name": "Python 3 (ipykernel)",
   "language": "python",
   "name": "python3"
  },
  "language_info": {
   "codemirror_mode": {
    "name": "ipython",
    "version": 3
   },
   "file_extension": ".py",
   "mimetype": "text/x-python",
   "name": "python",
   "nbconvert_exporter": "python",
   "pygments_lexer": "ipython3",
   "version": "3.9.13"
  }
 },
 "nbformat": 4,
 "nbformat_minor": 5
}
