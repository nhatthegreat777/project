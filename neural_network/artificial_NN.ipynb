{
 "cells": [
  {
   "cell_type": "code",
   "execution_count": 2,
   "id": "cad569e2",
   "metadata": {},
   "outputs": [],
   "source": [
    "import numpy as np\n",
    "import pandas as pd"
   ]
  },
  {
   "cell_type": "code",
   "execution_count": 29,
   "id": "d357f934",
   "metadata": {},
   "outputs": [],
   "source": [
    "class Neural_Network:\n",
    "    def __init__(self, net):\n",
    "        self.layers = len(net)\n",
    "        self.net = net\n",
    "        self.biases = [np.random.randn(j,1) for j in net[1:]]\n",
    "        self.weights = [np.random.randn(j,k) for k,j in zip(net[:-1], net[1:])]\n",
    "    def sigmoid(self, z):\n",
    "        a = 1/(1+np.exp(-z))\n",
    "        return a\n",
    "    def feedforward(self, a):\n",
    "        for w,b in zip(weights, biases):\n",
    "            a = sigmoid(np.dot(w,a) + b)\n",
    "        return a\n",
    "    def SDG(self, data, epochs, mini_batch_size, testing_data=False):\n",
    "        if testing_data:\n",
    "            return self.evaluation()\n",
    "        data_length = len(data)\n",
    "        for x in range(epochs):\n",
    "            np.random.shuffle(data)\n",
    "            for d in range()\n",
    "            feedforward(data)\n",
    "            \n",
    "    def mini_batch(self):\n",
    "    def backward(self):\n",
    "    def evaluation(self):"
   ]
  }
 ],
 "metadata": {
  "kernelspec": {
   "display_name": "Python 3 (ipykernel)",
   "language": "python",
   "name": "python3"
  },
  "language_info": {
   "codemirror_mode": {
    "name": "ipython",
    "version": 3
   },
   "file_extension": ".py",
   "mimetype": "text/x-python",
   "name": "python",
   "nbconvert_exporter": "python",
   "pygments_lexer": "ipython3",
   "version": "3.9.13"
  }
 },
 "nbformat": 4,
 "nbformat_minor": 5
}
