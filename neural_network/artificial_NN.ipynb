{
 "cells": [
  {
   "cell_type": "code",
   "execution_count": 8,
   "id": "cad569e2",
   "metadata": {},
   "outputs": [],
   "source": [
    "import numpy as np\n",
    "import pandas as pd"
   ]
  },
  {
   "cell_type": "code",
   "execution_count": 58,
   "id": "d357f934",
   "metadata": {},
   "outputs": [],
   "source": [
    "class Neural_Network:\n",
    "    def __init__(self, net):\n",
    "        self.layers = len(net)\n",
    "        self.net = net\n",
    "        self.biases = [np.random.randn(1,k) for k in net[1:]]\n",
    "        self.weights = [np.random.randn(j,k) for k,j in zip(net[:-1], net[1:])]\n",
    "        \n",
    "    def get_wb(self):\n",
    "        return self.weights, self.biases\n",
    "    \n",
    "    def SDG(self, data, epochs, mini_batch_size, testing_data=False):\n",
    "        if testing_data:\n",
    "            return self.evaluation(data)\n",
    "    \n",
    "        for x in range(epochs):\n",
    "            np.random.shuffle(data)\n",
    "            for batch in batched(data, mini_batch_size):\n",
    "                self.mini_batch_update(batch)\n",
    "                \n",
    "    def mini_batch_update(self, batch, lr):\n",
    "        delta_w = [np.zeros(w.shape) for w in self.weights]\n",
    "        delta_b = [np.zeros(b.shape) for b in self.biases]\n",
    "        for input_node, output_node in batch:\n",
    "            d_w, d_b = self.gradient_descent(input_node, output_node)\n",
    "            delta_w = [w1+w2 for w1,w2 in zip(delta_w,d_w)]\n",
    "            delta_b = [b1+b2 for b1,b2 in zip(delta_b, d_b)]\n",
    "        self.weights = [w-(lr*d_w) for w,d_w in zip(self.weights,delta_w)]\n",
    "        self.biases = [b-(lr*d_b) for b, d_b in zip(self.biases, delta_b)]\n",
    "            \n",
    "    def gradient_descent(self, x, y):\n",
    "        # Take in a single training example\n",
    "        # back propagate\n",
    "        d_w = [np.zeros(w.shape) for w in self.weights]\n",
    "        d_b = [np.zeros(b.shape) for b in self.biases]\n",
    "        \n",
    "        z_nodes, a_nodes = feedforward(x)\n",
    "        output_e = np.squeeze(self.delta_cost(a_nodes[-1], y)*self.d_sigmoid(z_nodes[-1]))\n",
    "        d_w[-1] = output_e*a_nodes[-1]\n",
    "        for l in range(2,self.layers):\n",
    "            output_e = np.squeeze(np.transpose(self.weight[-l+1])*output_e*self.d_sigmoid(z[-l]))\n",
    "            d_w[-l] = output_e*a_nodes[-l-1]\n",
    "            d_b[-l] = output_e\n",
    "        return d_w, d_b \n",
    "                  \n",
    "    \n",
    "    def feedforward(self, input_node):\n",
    "        # Take in a training example\n",
    "        # output the z and a for each layer\n",
    "        temp = input_node\n",
    "        z = []\n",
    "        a = []\n",
    "        for w,b in zip(self.weights, self.biases):\n",
    "            temp = np.dot(w,temp) + b\n",
    "            z.append(temp)\n",
    "            temp = self.sigmoid(temp)\n",
    "            a.append(temp)\n",
    "        return z, a\n",
    "    \n",
    "    def delta_cost(self,output_node, label):\n",
    "        error = (output_node-label)\n",
    "        return error\n",
    "    \n",
    "    def sigmoid(self, z):\n",
    "        a = np.squeeze(1/(1+np.exp(-z)))\n",
    "        return a\n",
    "    \n",
    "    def d_sigmoid(self, z):\n",
    "        d_a = np.exp(-z)/((1+np.exp(-z))**2)\n",
    "        return d_a\n",
    "    \n",
    "    def evaluation(self, data):\n",
    "        correct = 0\n",
    "        wrong = 0\n",
    "        for x,y in data:\n",
    "            z,a = feedforward(x)\n",
    "            if a == y:\n",
    "                correct +=1\n",
    "            else:\n",
    "                wrong += 1\n",
    "        accuracy = correct/len(data)\n",
    "        print(\"correct prediction: {} Accuracy: {}\".format(correct, accuracy))\n",
    "            "
   ]
  },
  {
   "cell_type": "code",
   "execution_count": 23,
   "id": "d505e22f",
   "metadata": {},
   "outputs": [],
   "source": [
    "net = [2,3,4]\n",
    "nn = Neural_Network(net)"
   ]
  },
  {
   "cell_type": "code",
   "execution_count": 24,
   "id": "60a48fd2",
   "metadata": {},
   "outputs": [],
   "source": [
    "weight, biases = nn.get_wb()"
   ]
  },
  {
   "cell_type": "code",
   "execution_count": 38,
   "id": "20651545",
   "metadata": {},
   "outputs": [
    {
     "data": {
      "text/plain": [
       "[array([[0., 0.],\n",
       "        [0., 0.],\n",
       "        [0., 0.]]),\n",
       " array([[0., 0., 0.],\n",
       "        [0., 0., 0.],\n",
       "        [0., 0., 0.],\n",
       "        [0., 0., 0.]])]"
      ]
     },
     "execution_count": 38,
     "metadata": {},
     "output_type": "execute_result"
    }
   ],
   "source": [
    "delta_w = [np.zeros(w.shape) for w in weight]\n",
    "delta_w"
   ]
  },
  {
   "cell_type": "code",
   "execution_count": 48,
   "id": "217b4dc7",
   "metadata": {},
   "outputs": [
    {
     "data": {
      "text/plain": [
       "[array([[ 0.81571996, -0.91064301],\n",
       "        [-0.50244918, -0.1511848 ],\n",
       "        [ 0.17572057, -0.35133504]]),\n",
       " array([[-1.12667948,  1.61888101, -0.68789637],\n",
       "        [-0.99971549,  0.77792462,  1.31261958],\n",
       "        [ 0.10430213,  0.9107165 ,  1.33442341],\n",
       "        [-1.49269517, -0.33300262, -1.89356606]])]"
      ]
     },
     "execution_count": 48,
     "metadata": {},
     "output_type": "execute_result"
    }
   ],
   "source": [
    "d_w = [np.random.randn(w.shape[0],w.shape[1]) for w in weight]\n",
    "d_w"
   ]
  },
  {
   "cell_type": "code",
   "execution_count": 52,
   "id": "75dea6ef",
   "metadata": {},
   "outputs": [],
   "source": [
    "weight = [w1-(0.03*w2) for w1,w2 in zip(weight,d_w)]"
   ]
  },
  {
   "cell_type": "code",
   "execution_count": 56,
   "id": "e93840ed",
   "metadata": {},
   "outputs": [
    {
     "data": {
      "text/plain": [
       "True"
      ]
     },
     "execution_count": 56,
     "metadata": {},
     "output_type": "execute_result"
    }
   ],
   "source": [
    "a = [1,2,3]\n",
    "b = [1,2,3]\n",
    "a == b"
   ]
  }
 ],
 "metadata": {
  "kernelspec": {
   "display_name": "Python 3 (ipykernel)",
   "language": "python",
   "name": "python3"
  },
  "language_info": {
   "codemirror_mode": {
    "name": "ipython",
    "version": 3
   },
   "file_extension": ".py",
   "mimetype": "text/x-python",
   "name": "python",
   "nbconvert_exporter": "python",
   "pygments_lexer": "ipython3",
   "version": "3.9.13"
  }
 },
 "nbformat": 4,
 "nbformat_minor": 5
}
