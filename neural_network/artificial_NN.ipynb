{
 "cells": [
  {
   "cell_type": "code",
   "execution_count": 1,
   "id": "cad569e2",
   "metadata": {},
   "outputs": [
    {
     "name": "stderr",
     "output_type": "stream",
     "text": [
      "2023-03-20 23:45:31.218378: I tensorflow/core/platform/cpu_feature_guard.cc:193] This TensorFlow binary is optimized with oneAPI Deep Neural Network Library (oneDNN) to use the following CPU instructions in performance-critical operations:  AVX2 FMA\n",
      "To enable them in other operations, rebuild TensorFlow with the appropriate compiler flags.\n",
      "2023-03-20 23:45:31.664283: W tensorflow/compiler/xla/stream_executor/platform/default/dso_loader.cc:64] Could not load dynamic library 'libcudart.so.11.0'; dlerror: libcudart.so.11.0: cannot open shared object file: No such file or directory\n",
      "2023-03-20 23:45:31.664312: I tensorflow/compiler/xla/stream_executor/cuda/cudart_stub.cc:29] Ignore above cudart dlerror if you do not have a GPU set up on your machine.\n",
      "2023-03-20 23:45:32.861496: W tensorflow/compiler/xla/stream_executor/platform/default/dso_loader.cc:64] Could not load dynamic library 'libnvinfer.so.7'; dlerror: libnvinfer.so.7: cannot open shared object file: No such file or directory\n",
      "2023-03-20 23:45:32.861832: W tensorflow/compiler/xla/stream_executor/platform/default/dso_loader.cc:64] Could not load dynamic library 'libnvinfer_plugin.so.7'; dlerror: libnvinfer_plugin.so.7: cannot open shared object file: No such file or directory\n",
      "2023-03-20 23:45:32.861841: W tensorflow/compiler/tf2tensorrt/utils/py_utils.cc:38] TF-TRT Warning: Cannot dlopen some TensorRT libraries. If you would like to use Nvidia GPU with TensorRT, please make sure the missing libraries mentioned above are installed properly.\n"
     ]
    }
   ],
   "source": [
    "%matplotlib inline\n",
    "import numpy as np\n",
    "import pandas as pd\n",
    "import math\n",
    "from keras.datasets import mnist\n",
    "import matplotlib.pyplot as plt\n",
    "import warnings\n",
    "warnings.filterwarnings('ignore')"
   ]
  },
  {
   "cell_type": "code",
   "execution_count": 31,
   "id": "d357f934",
   "metadata": {},
   "outputs": [],
   "source": [
    "class Neural_Network:\n",
    "    def __init__(self, net):\n",
    "        self.layers = len(net)\n",
    "        self.net = net\n",
    "        self.biases = [np.random.randn(1,k) for k in net[1:]]\n",
    "        self.weights = [np.random.randn(j,k) for k,j in zip(net[:-1], net[1:])]\n",
    "        self.c = []\n",
    "        self.iterate = 0\n",
    "        \n",
    "    def get_wb(self):\n",
    "        return self.weights, self.biases\n",
    "    \n",
    "    def SDG(self, data , epochs = 15, mini_batch_size = 500, lr = 3.0, testing_data=False):\n",
    "        if testing_data:\n",
    "            return self.evaluation(data)\n",
    "        batches = [data[i:i+mini_batch_size] for i in range(0,len(data),mini_batch_size)]\n",
    "        for x in range(epochs):\n",
    "            np.random.shuffle(data)\n",
    "            for batch in batches:\n",
    "                self.mini_batch_update(batch,lr)\n",
    "            print(\"epochs: {}/{}\".format(x+1, epochs))\n",
    "\n",
    "    def mini_batch_update(self, batch, lr):\n",
    "        delta_w = [np.zeros(w.shape) for w in self.weights]\n",
    "        delta_b = [np.zeros(b.shape) for b in self.biases]\n",
    "        for i in range(len(batch)):\n",
    "            input_node = batch[i][0]\n",
    "            output_node = batch[i][1]\n",
    "            d_w, d_b = self.backpropagate(input_node, output_node)\n",
    "            delta_w = [w1+w2 for w1,w2 in zip(delta_w,d_w)]\n",
    "            delta_b = [b1+b2 for b1,b2 in zip(delta_b, d_b)]\n",
    "\n",
    "        self.weights = [w-((lr/len(batch))*d_w) for w,d_w in zip(self.weights,delta_w)]\n",
    "        self.biases = [b-((lr/len(batch))*d_b) for b, d_b in zip(self.biases, delta_b)]    \n",
    "\n",
    "    def backpropagate(self, x, y):\n",
    "        # Take in a single training example\n",
    "        # back propagate\n",
    "        d_w = [np.zeros(w.shape) for w in self.weights]\n",
    "        d_b = [np.zeros(b.shape) for b in self.biases]\n",
    "        z_nodes, a_nodes = self.feedforward(x)\n",
    "        if (self.iterate %100 ==0):\n",
    "            self.cost(a_nodes[-1], y)\n",
    "        output_e = self.delta_cost(a_nodes[-1], y)*self.d_sigmoid(z_nodes[-1])\n",
    "        d_w[-1] = np.dot(output_e.transpose(), a_nodes[-2])\n",
    "        d_b[-1] = output_e\n",
    "        \n",
    "        for l in range(2,self.layers):\n",
    "            output_e = np.dot(output_e, self.weights[-l+1])*self.d_sigmoid(z_nodes[-l])\n",
    "            d_w[-l] = np.dot(output_e.transpose(), a_nodes[-l-1])\n",
    "            d_b[-l] = output_e\n",
    "        self.iterate += 1\n",
    "        return d_w, d_b \n",
    "                  \n",
    "    def feedforward(self, input_node):\n",
    "        # Take in a training example\n",
    "        # output the z and a for each layer\n",
    "        node = np.expand_dims(input_node,0)\n",
    "        z = []\n",
    "        a = [node]\n",
    "        for w,b in zip(self.weights, self.biases):\n",
    "            node = np.dot(node, w.transpose())+b\n",
    "            z.append(node)\n",
    "            node = self.sigmoid(node)\n",
    "            a.append(node)\n",
    "        return z, a\n",
    "    \n",
    "    def cost(self, output_node, label):\n",
    "        co = 1/2*(output_node-label)**2\n",
    "        co = co.mean()\n",
    "        #print(\"Cost:\", co)\n",
    "        self.c.append(co)\n",
    "    \n",
    "    def get_cost(self):\n",
    "        return self.c\n",
    "    \n",
    "    def delta_cost(self,output_node, label):\n",
    "        error = (output_node-label)\n",
    "        return error\n",
    "    \n",
    "    def sigmoid(self, z):\n",
    "        a = 1/(1+np.exp(-z))\n",
    "        return a\n",
    "    \n",
    "    def d_sigmoid(self, z):\n",
    "        d_a = self.sigmoid(z)*(1-self.sigmoid(z))\n",
    "        return d_a\n",
    "    \n",
    "    def plot_cost(self):\n",
    "        print(\"len: {}\", len(self.c))\n",
    "        plt.plot(len(self.c), self.c, 'ro')\n",
    "        plt.show()\n",
    "        \n",
    "    def evaluation(self, data):\n",
    "        correct = 0\n",
    "        wrong = 0\n",
    "        for x,y in zip(data[0], data[1]):\n",
    "            z,a = self.feedforward(x)\n",
    "            y_prime = np.argmax(a[-1])\n",
    "            y = np.argmax(y)\n",
    "\n",
    "            if y_prime == y:\n",
    "                correct +=1\n",
    "            else:\n",
    "                wrong += 1\n",
    "        accuracy = correct/len(data)\n",
    "        print(\"correct prediction: {} Accuracy: {}\".format(correct, accuracy))\n",
    "            "
   ]
  },
  {
   "cell_type": "code",
   "execution_count": 4,
   "id": "348b361b",
   "metadata": {},
   "outputs": [],
   "source": [
    "(train_X, train_Y), (test_X, test_Y) = mnist.load_data()"
   ]
  },
  {
   "cell_type": "code",
   "execution_count": 26,
   "id": "6d7a83f0",
   "metadata": {},
   "outputs": [],
   "source": [
    "train_x = np.zeros((train_X.shape[0], train_X.shape[1]**2))\n",
    "train_y = np.zeros((train_Y.shape[0], 10))\n",
    "test_x = np.zeros((test_X.shape[0], test_X.shape[1]**2)) \n",
    "test_y = np.zeros((test_Y.shape[0], 10))\n",
    "\n",
    "for i in range(len(train_x)):\n",
    "    x = np.array([train_X[i].ravel()])\n",
    "    x = np.ma.log2(x)\n",
    "    x = x.filled(0)\n",
    "    train_x[i] = x\n",
    "\n",
    "for i in range(len(train_Y)):\n",
    "    y = np.zeros(10)\n",
    "    y[train_Y[i]] = 1\n",
    "    train_y[i] = y\n",
    "training_data = [[x,y] for x,y in zip(train_x,train_y)]\n",
    "\n",
    "\n",
    "for i in range(len(test_x)):\n",
    "    x = np.array([train_X[i].ravel()])\n",
    "    x = np.ma.log2(x)\n",
    "    x = x.filled(0)\n",
    "    test_x[i] = x\n",
    "\n",
    "for i in range(len(test_Y)):\n",
    "    y = np.zeros(10)\n",
    "    y[test_Y[i]] = 1\n",
    "    test_y[i] = y\n",
    "test_data = [[x,y] for x,y in zip(test_x,test_y)]"
   ]
  },
  {
   "cell_type": "code",
   "execution_count": 27,
   "id": "24684b71",
   "metadata": {},
   "outputs": [],
   "source": [
    "network = [784,30,10]\n",
    "epochs = 30\n",
    "mini_batch_size = 10\n",
    "learing_rate = 3.0"
   ]
  },
  {
   "cell_type": "code",
   "execution_count": 32,
   "id": "69a48eff",
   "metadata": {},
   "outputs": [
    {
     "name": "stdout",
     "output_type": "stream",
     "text": [
      "epochs: 1/30\n",
      "epochs: 2/30\n",
      "epochs: 3/30\n",
      "epochs: 4/30\n",
      "epochs: 5/30\n",
      "epochs: 6/30\n",
      "epochs: 7/30\n",
      "epochs: 8/30\n",
      "epochs: 9/30\n",
      "epochs: 10/30\n",
      "epochs: 11/30\n",
      "epochs: 12/30\n",
      "epochs: 13/30\n",
      "epochs: 14/30\n",
      "epochs: 15/30\n",
      "epochs: 16/30\n",
      "epochs: 17/30\n",
      "epochs: 18/30\n",
      "epochs: 19/30\n",
      "epochs: 20/30\n",
      "epochs: 21/30\n",
      "epochs: 22/30\n",
      "epochs: 23/30\n",
      "epochs: 24/30\n",
      "epochs: 25/30\n",
      "epochs: 26/30\n",
      "epochs: 27/30\n",
      "epochs: 28/30\n",
      "epochs: 29/30\n",
      "epochs: 30/30\n"
     ]
    }
   ],
   "source": [
    "handwritten_digit_network = Neural_Network(network)\n",
    "\n",
    "handwritten_digit_network.SDG(training_data, epochs, mini_batch_size, learing_rate)"
   ]
  },
  {
   "cell_type": "code",
   "execution_count": 34,
   "id": "640d7347",
   "metadata": {},
   "outputs": [],
   "source": [
    "w,b = handwritten_digit_network.get_wb()"
   ]
  },
  {
   "cell_type": "code",
   "execution_count": null,
   "id": "89816dcf",
   "metadata": {},
   "outputs": [],
   "source": [
    "c = handwritten_digit_network.get_cost()\n",
    "x = len(c)\n",
    "\n",
    "for i,y in zip(range(x),c):\n",
    "    plt.plot(i,y,'ro')\n",
    "plt.show()"
   ]
  },
  {
   "cell_type": "code",
   "execution_count": 33,
   "id": "20a259a0",
   "metadata": {},
   "outputs": [
    {
     "name": "stdout",
     "output_type": "stream",
     "text": [
      "accuracy:  94 1000\n"
     ]
    }
   ],
   "source": [
    "correct = 0\n",
    "for i in range(len(test_data[:1000])):\n",
    "    x = test_data[i][0]\n",
    "    y = test_data[i][1]\n",
    "    a,z = handwritten_digit_network.feedforward(x)\n",
    "    x_out = a[-1]\n",
    "    if np.argmax(x_out) == np.argmax(y):\n",
    "        correct +=1\n",
    "print(\"accuracy: \", correct, len(test_data[:1000]))"
   ]
  },
  {
   "cell_type": "code",
   "execution_count": 16,
   "id": "1c202223",
   "metadata": {},
   "outputs": [
    {
     "data": {
      "text/plain": [
       "array([[2, 2],\n",
       "       [4, 4],\n",
       "       [6, 6]])"
      ]
     },
     "execution_count": 16,
     "metadata": {},
     "output_type": "execute_result"
    }
   ],
   "source": [
    "a = np.array([[1],[2],[3]])\n",
    "b = np.array([[2,2]])\n",
    "np.dot(a,b)"
   ]
  },
  {
   "cell_type": "code",
   "execution_count": 17,
   "id": "d66d751d",
   "metadata": {},
   "outputs": [
    {
     "data": {
      "text/plain": [
       "array([[2, 4, 6],\n",
       "       [2, 4, 6]])"
      ]
     },
     "execution_count": 17,
     "metadata": {},
     "output_type": "execute_result"
    }
   ],
   "source": [
    "c = a.transpose()\n",
    "d = b.transpose()\n",
    "np.dot(d,c)"
   ]
  }
 ],
 "metadata": {
  "kernelspec": {
   "display_name": "Python 3 (ipykernel)",
   "language": "python",
   "name": "python3"
  },
  "language_info": {
   "codemirror_mode": {
    "name": "ipython",
    "version": 3
   },
   "file_extension": ".py",
   "mimetype": "text/x-python",
   "name": "python",
   "nbconvert_exporter": "python",
   "pygments_lexer": "ipython3",
   "version": "3.9.13"
  }
 },
 "nbformat": 4,
 "nbformat_minor": 5
}
