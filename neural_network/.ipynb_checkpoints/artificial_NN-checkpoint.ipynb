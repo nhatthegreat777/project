{
 "cells": [
  {
   "cell_type": "code",
   "execution_count": 2,
   "id": "cad569e2",
   "metadata": {},
   "outputs": [],
   "source": [
    "import numpy as np\n",
    "import pandas as pd"
   ]
  },
  {
   "cell_type": "code",
   "execution_count": 19,
   "id": "d357f934",
   "metadata": {},
   "outputs": [],
   "source": [
    "class Neural_Network:\n",
    "    def __init__(self, net):\n",
    "        self.layers = len(net)\n",
    "        self.net = net\n",
    "        self.biases = [np.random.randn(1,k) for k in net[1:]]\n",
    "        self.weights = [np.random.randn(j,k) for k,j in zip(net[:-1], net[1:])]\n",
    "        \n",
    "    \n",
    "    def SDG(self, data, epochs, mini_batch_size, testing_data=False):\n",
    "        if testing_data:\n",
    "            return self.evaluation()\n",
    "        data_length = len(data)\n",
    "        for x in range(epochs):\n",
    "            np.random.shuffle(data)\n",
    "            for batch in batched(data, mini_batch_size):\n",
    "                self.mini_batch_update(batch)\n",
    "                \n",
    "    def mini_batch_update(self, batch):\n",
    "        delta_b = [np.zeros(i.shape()) for i in self.biases]\n",
    "        delta_w = [np.zeros(i.shape()) for i in self.weights]\n",
    "        input_node = batch[0]\n",
    "        output_expected = batch[1]\n",
    "        for i in batch:\n",
    "            self.gradient_descent(batch)\n",
    "        pass\n",
    "            \n",
    "    def gradient_descent(self, batch):\n",
    "        pass\n",
    "    \n",
    "    def feedforward(self, input_node):\n",
    "        temp = input_node\n",
    "        a = []\n",
    "        for w,b in zip(self.weights, self.biases):\n",
    "            temp = self.sigmoid(np.dot(w,temp) + b)\n",
    "            a.append(temp)\n",
    "        return a # a dimension of activation layers\n",
    "    \n",
    "    def output_error(self,output_node, label):\n",
    "        pass\n",
    "        error = (output_node-label)\n",
    "    \n",
    "    def back_propagation(self, input_node, label):\n",
    "        pass    \n",
    "    \n",
    "    \n",
    "    \n",
    "    def delta_cost(self, a, y):\n",
    "        pass\n",
    "        e = (2*(a-y))*d_sigmoid(z)\n",
    "        return e\n",
    "    \n",
    "    \n",
    "    def sigmoid(self, z):\n",
    "        pass\n",
    "        a = np.squeeze(1/(1+np.exp(-z)))\n",
    "        return a\n",
    "    \n",
    "    def d_sigmoid(self, z):\n",
    "        pass\n",
    "        d_a = np.exp(-z)/((1+np.exp(-z))**2)\n",
    "        return d_a\n",
    "    \n",
    "    def evaluation(self):\n",
    "        pass"
   ]
  },
  {
   "cell_type": "code",
   "execution_count": 20,
   "id": "d505e22f",
   "metadata": {},
   "outputs": [],
   "source": [
    "net = [2,3,4]\n",
    "nn = Neural_Network(net)"
   ]
  },
  {
   "cell_type": "code",
   "execution_count": 21,
   "id": "ee521952",
   "metadata": {},
   "outputs": [
    {
     "data": {
      "text/plain": [
       "[array([0.22549578, 0.32892556, 0.0300651 ]),\n",
       " array([0.58031522, 0.51545006, 0.69501078, 0.23997737])]"
      ]
     },
     "execution_count": 21,
     "metadata": {},
     "output_type": "execute_result"
    }
   ],
   "source": [
    "test = [1,1]\n",
    "nn.feedforward(test)"
   ]
  }
 ],
 "metadata": {
  "kernelspec": {
   "display_name": "Python 3 (ipykernel)",
   "language": "python",
   "name": "python3"
  },
  "language_info": {
   "codemirror_mode": {
    "name": "ipython",
    "version": 3
   },
   "file_extension": ".py",
   "mimetype": "text/x-python",
   "name": "python",
   "nbconvert_exporter": "python",
   "pygments_lexer": "ipython3",
   "version": "3.9.13"
  }
 },
 "nbformat": 4,
 "nbformat_minor": 5
}
