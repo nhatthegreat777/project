{
 "cells": [
  {
   "cell_type": "code",
   "execution_count": 3,
   "id": "cad569e2",
   "metadata": {},
   "outputs": [
    {
     "name": "stderr",
     "output_type": "stream",
     "text": [
      "2023-03-16 12:32:40.333377: I tensorflow/core/platform/cpu_feature_guard.cc:193] This TensorFlow binary is optimized with oneAPI Deep Neural Network Library (oneDNN) to use the following CPU instructions in performance-critical operations:  AVX2 FMA\n",
      "To enable them in other operations, rebuild TensorFlow with the appropriate compiler flags.\n",
      "2023-03-16 12:32:40.454133: W tensorflow/compiler/xla/stream_executor/platform/default/dso_loader.cc:64] Could not load dynamic library 'libcudart.so.11.0'; dlerror: libcudart.so.11.0: cannot open shared object file: No such file or directory\n",
      "2023-03-16 12:32:40.454149: I tensorflow/compiler/xla/stream_executor/cuda/cudart_stub.cc:29] Ignore above cudart dlerror if you do not have a GPU set up on your machine.\n",
      "2023-03-16 12:32:40.923075: W tensorflow/compiler/xla/stream_executor/platform/default/dso_loader.cc:64] Could not load dynamic library 'libnvinfer.so.7'; dlerror: libnvinfer.so.7: cannot open shared object file: No such file or directory\n",
      "2023-03-16 12:32:40.923127: W tensorflow/compiler/xla/stream_executor/platform/default/dso_loader.cc:64] Could not load dynamic library 'libnvinfer_plugin.so.7'; dlerror: libnvinfer_plugin.so.7: cannot open shared object file: No such file or directory\n",
      "2023-03-16 12:32:40.923131: W tensorflow/compiler/tf2tensorrt/utils/py_utils.cc:38] TF-TRT Warning: Cannot dlopen some TensorRT libraries. If you would like to use Nvidia GPU with TensorRT, please make sure the missing libraries mentioned above are installed properly.\n"
     ]
    }
   ],
   "source": [
    "import numpy as np\n",
    "import pandas as pd\n",
    "from keras.datasets import mnist"
   ]
  },
  {
   "cell_type": "code",
   "execution_count": 1,
   "id": "d357f934",
   "metadata": {},
   "outputs": [],
   "source": [
    "class Neural_Network:\n",
    "    def __init__(self, net):\n",
    "        self.layers = len(net)\n",
    "        self.net = net\n",
    "        self.biases = [np.random.randn(1,k) for k in net[1:]]\n",
    "        self.weights = [np.random.randn(j,k) for k,j in zip(net[:-1], net[1:])]\n",
    "        \n",
    "    def get_wb(self):\n",
    "        return self.weights, self.biases\n",
    "    \n",
    "    def SDG(self, data, epochs, mini_batch_size, lr, testing_data=False):\n",
    "        if testing_data:\n",
    "            return self.evaluation(data)\n",
    "        batches = [data[i:i+mini_batch_size] for i in range(0,len(data),mini_batch_size)]\n",
    "        for x in range(epochs):\n",
    "            np.random.shuffle(data)\n",
    "            for batch in batches:\n",
    "                self.mini_batch_update(batch,lr)\n",
    "                \n",
    "    def mini_batch_update(self, batch, lr):\n",
    "        delta_w = [np.zeros(w.shape) for w in self.weights]\n",
    "        delta_b = [np.zeros(b.shape) for b in self.biases]\n",
    "        for input_node, output_node in zip(batch[0],batch[1]):\n",
    "            d_w, d_b = self.gradient_descent(input_node, output_node)\n",
    "            delta_w = [w1+w2 for w1,w2 in zip(delta_w,d_w)]\n",
    "            delta_b = [b1+b2 for b1,b2 in zip(delta_b, d_b)]\n",
    "        self.weights = [w-(lr*d_w) for w,d_w in zip(self.weights,delta_w)]\n",
    "        self.biases = [b-(lr*d_b) for b, d_b in zip(self.biases, delta_b)]\n",
    "    \n",
    "\n",
    "    def gradient_descent(self, x, y):\n",
    "        # Take in a single training example\n",
    "        # back propagate\n",
    "        d_w = [np.zeros(w.shape) for w in self.weights]\n",
    "        d_b = [np.zeros(b.shape) for b in self.biases]\n",
    "        \n",
    "        z_nodes, a_nodes = feedforward(x)\n",
    "        output_e = np.squeeze(self.delta_cost(a_nodes[-1], y)*self.d_sigmoid(z_nodes[-1]))\n",
    "        d_w[-1] = output_e*a_nodes[-1]\n",
    "        for l in range(2,self.layers):\n",
    "            output_e = np.squeeze(np.transpose(self.weight[-l+1])*output_e*self.d_sigmoid(z[-l]))\n",
    "            d_w[-l] = output_e*a_nodes[-l-1]\n",
    "            d_b[-l] = output_e\n",
    "        return d_w, d_b \n",
    "                  \n",
    "    \n",
    "    def feedforward(self, input_node):\n",
    "        # Take in a training example\n",
    "        # output the z and a for each layer\n",
    "        temp = input_node\n",
    "        z = []\n",
    "        a = []\n",
    "        for w,b in zip(self.weights, self.biases):\n",
    "            temp = np.dot(w,temp) + b\n",
    "            z.append(temp)\n",
    "            temp = self.sigmoid(temp)\n",
    "            a.append(temp)\n",
    "        return z, a\n",
    "    \n",
    "    def delta_cost(self,output_node, label):\n",
    "        error = (output_node-label)\n",
    "        return error\n",
    "    \n",
    "    def sigmoid(self, z):\n",
    "        a = np.squeeze(1/(1+np.exp(-z)))\n",
    "        return a\n",
    "    \n",
    "    def d_sigmoid(self, z):\n",
    "        d_a = np.exp(-z)/((1+np.exp(-z))**2)\n",
    "        return d_a\n",
    "    \n",
    "    def evaluation(self, data):\n",
    "        correct = 0\n",
    "        wrong = 0\n",
    "        for x,y in data:\n",
    "            z,a = feedforward(x)\n",
    "            if a == y:\n",
    "                correct +=1\n",
    "            else:\n",
    "                wrong += 1\n",
    "        accuracy = correct/len(data)\n",
    "        print(\"correct prediction: {} Accuracy: {}\".format(correct, accuracy))\n",
    "            "
   ]
  },
  {
   "cell_type": "code",
   "execution_count": 10,
   "id": "348b361b",
   "metadata": {},
   "outputs": [],
   "source": [
    "(train_X, train_Y), (test_X, test_Y) = mnist.load_data()"
   ]
  },
  {
   "cell_type": "code",
   "execution_count": 11,
   "id": "6d7a83f0",
   "metadata": {},
   "outputs": [],
   "source": [
    "train_x = np.zeros((train_X.shape[0], train_X.shape[1]**2))\n",
    "train_y = np.zeros((train_Y.shape[0], 10))\n",
    "\n",
    "for i in range(len(train_x)):\n",
    "    train_x[i] = np.array([train_X[i].ravel()])\n",
    "\n",
    "for i in range(len(train_Y)):\n",
    "    temp = np.zeros(10)\n",
    "    temp[train_Y[i]] = 1\n",
    "    train_y[i] = temp"
   ]
  },
  {
   "cell_type": "code",
   "execution_count": 14,
   "id": "f7816396",
   "metadata": {},
   "outputs": [],
   "source": [
    "network = [128,25,10]\n",
    "handwritten_digit_network = Neural_Network(network)\n",
    "epochs = 15\n",
    "training_data = [train_x,train_y]\n",
    "mini_batch_size = 500\n",
    "learing_rate = 0.03"
   ]
  },
  {
   "cell_type": "code",
   "execution_count": 13,
   "id": "a76405c4",
   "metadata": {},
   "outputs": [
    {
     "ename": "TypeError",
     "evalue": "mini_batch_update() missing 1 required positional argument: 'lr'",
     "output_type": "error",
     "traceback": [
      "\u001b[0;31m---------------------------------------------------------------------------\u001b[0m",
      "\u001b[0;31mTypeError\u001b[0m                                 Traceback (most recent call last)",
      "\u001b[0;32m/tmp/ipykernel_1935322/2695349077.py\u001b[0m in \u001b[0;36m<module>\u001b[0;34m\u001b[0m\n\u001b[0;32m----> 1\u001b[0;31m \u001b[0mhandwritten_digit_network\u001b[0m\u001b[0;34m.\u001b[0m\u001b[0mSDG\u001b[0m\u001b[0;34m(\u001b[0m\u001b[0mtraining_data\u001b[0m\u001b[0;34m,\u001b[0m \u001b[0mepochs\u001b[0m\u001b[0;34m,\u001b[0m \u001b[0mmini_batch_size\u001b[0m\u001b[0;34m)\u001b[0m\u001b[0;34m\u001b[0m\u001b[0;34m\u001b[0m\u001b[0m\n\u001b[0m",
      "\u001b[0;32m/tmp/ipykernel_1935322/2318445581.py\u001b[0m in \u001b[0;36mSDG\u001b[0;34m(self, data, epochs, mini_batch_size, testing_data)\u001b[0m\n\u001b[1;32m     16\u001b[0m             \u001b[0mnp\u001b[0m\u001b[0;34m.\u001b[0m\u001b[0mrandom\u001b[0m\u001b[0;34m.\u001b[0m\u001b[0mshuffle\u001b[0m\u001b[0;34m(\u001b[0m\u001b[0mdata\u001b[0m\u001b[0;34m)\u001b[0m\u001b[0;34m\u001b[0m\u001b[0;34m\u001b[0m\u001b[0m\n\u001b[1;32m     17\u001b[0m             \u001b[0;32mfor\u001b[0m \u001b[0mbatch\u001b[0m \u001b[0;32min\u001b[0m \u001b[0mbatches\u001b[0m\u001b[0;34m:\u001b[0m\u001b[0;34m\u001b[0m\u001b[0;34m\u001b[0m\u001b[0m\n\u001b[0;32m---> 18\u001b[0;31m                 \u001b[0mself\u001b[0m\u001b[0;34m.\u001b[0m\u001b[0mmini_batch_update\u001b[0m\u001b[0;34m(\u001b[0m\u001b[0mbatch\u001b[0m\u001b[0;34m)\u001b[0m\u001b[0;34m\u001b[0m\u001b[0;34m\u001b[0m\u001b[0m\n\u001b[0m\u001b[1;32m     19\u001b[0m \u001b[0;34m\u001b[0m\u001b[0m\n\u001b[1;32m     20\u001b[0m     \u001b[0;32mdef\u001b[0m \u001b[0mmini_batch_update\u001b[0m\u001b[0;34m(\u001b[0m\u001b[0mself\u001b[0m\u001b[0;34m,\u001b[0m \u001b[0mbatch\u001b[0m\u001b[0;34m,\u001b[0m \u001b[0mlr\u001b[0m\u001b[0;34m)\u001b[0m\u001b[0;34m:\u001b[0m\u001b[0;34m\u001b[0m\u001b[0;34m\u001b[0m\u001b[0m\n",
      "\u001b[0;31mTypeError\u001b[0m: mini_batch_update() missing 1 required positional argument: 'lr'"
     ]
    }
   ],
   "source": [
    "handwritten_digit_network.SDG(training_data, epochs, mini_batch_size)"
   ]
  }
 ],
 "metadata": {
  "kernelspec": {
   "display_name": "Python 3 (ipykernel)",
   "language": "python",
   "name": "python3"
  },
  "language_info": {
   "codemirror_mode": {
    "name": "ipython",
    "version": 3
   },
   "file_extension": ".py",
   "mimetype": "text/x-python",
   "name": "python",
   "nbconvert_exporter": "python",
   "pygments_lexer": "ipython3",
   "version": "3.9.13"
  }
 },
 "nbformat": 4,
 "nbformat_minor": 5
}
