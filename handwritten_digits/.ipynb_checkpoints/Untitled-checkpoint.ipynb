{
 "cells": [
  {
   "cell_type": "code",
   "execution_count": 21,
   "id": "235bbad4",
   "metadata": {},
   "outputs": [],
   "source": [
    "%matplotlib inline\n",
    "from keras.datasets import mnist\n",
    "import pandas as pd\n",
    "import numpy as np\n",
    "import matplotlib.pyplot as plt"
   ]
  },
  {
   "cell_type": "code",
   "execution_count": 58,
   "id": "f958efa9",
   "metadata": {},
   "outputs": [],
   "source": [
    "class Neural_Network:\n",
    "    def __init__(self, net):\n",
    "        self.layers = len(net)\n",
    "        self.net = net\n",
    "        self.biases = [np.around(np.random.randn(1,k), decimals=10) for k in net[1:]]\n",
    "        self.weights = [np.around(np.random.randn(j,k), decimals=10) for k,j in zip(net[:-1], net[1:])]\n",
    "        self.c = []\n",
    "        self.iterate = 0\n",
    "        \n",
    "    def get_wb(self):\n",
    "        return self.weights, self.biases\n",
    "    \n",
    "    def SDG(self, data , epochs = 15, mini_batch_size = 500, lr = 0.03, testing_data=False):\n",
    "        if testing_data:\n",
    "            return self.evaluation(data)\n",
    "        batches = [data[i:i+mini_batch_size] for i in range(0,len(data),mini_batch_size)]\n",
    "        for x in range(epochs):\n",
    "            np.random.shuffle(data)\n",
    "            for batch in batches:\n",
    "                self.mini_batch_update(batch,lr)\n",
    "            print(\"epochs: {}/{}\".format(x, epochs))\n",
    "                \n",
    "    def mini_batch_update(self, batch, lr):\n",
    "        delta_w = [np.zeros(w.shape) for w in self.weights]\n",
    "        delta_b = [np.zeros(b.shape) for b in self.biases]\n",
    "        for i in range(len(batch)):\n",
    "            input_node = batch[i][0]\n",
    "            output_node = batch[i][1]\n",
    "            d_w, d_b = self.gradient_descent(input_node, output_node)  \n",
    "            delta_w = [np.around((w1+w2), decimals=10) for w1,w2 in zip(delta_w,d_w)]\n",
    "            delta_b = [np.around((b1+b2), decimals=10) for b1,b2 in zip(delta_b, d_b)]\n",
    "        self.weights = [np.around((w-((lr/len(batch))*d_w)), decimals=10) for w,d_w in zip(self.weights,delta_w)]\n",
    "        self.biases = [np.around((b-((lr/len(batch))*d_b)), decimals=10) for b, d_b in zip(self.biases, delta_b)]    \n",
    "\n",
    "    def gradient_descent(self, x, y):\n",
    "        # Take in a single training example\n",
    "        # back propagate\n",
    "        d_w = [np.zeros(w.shape) for w in self.weights]\n",
    "        d_b = [np.zeros(b.shape) for b in self.biases]\n",
    "        z_nodes, a_nodes = self.feedforward(x)\n",
    "        output_e = self.delta_cost(a_nodes[-1], y)*self.d_sigmoid(z_nodes[-1])\n",
    "        output_e = np.around(output_e, decimals=10)\n",
    "        d_w[-1] = np.around(np.dot(output_e.transpose(), a_nodes[-2]), decimals=10)\n",
    "        d_b[-1] = output_e\n",
    "        \n",
    "        for l in range(2,self.layers):\n",
    "            '''\n",
    "            if l ==3:\n",
    "                print(\"deez nut: \", output_e)\n",
    "                print(\"dot: \",  np.dot(output_e, self.weights[-l+1]))\n",
    "                print(\"d_sigmoid: \", self.d_sigmoid(z_nodes[-l]))\n",
    "                print(\"e after: \", np.dot(output_e, self.weights[-l+1])*self.d_sigmoid(z_nodes[-l]))\n",
    "            '''\n",
    "            output_e = np.dot(output_e, self.weights[-l+1])*self.d_sigmoid(z_nodes[-l])\n",
    "            output_e = np.around(output_e, decimals=10)\n",
    "            d_w[-l] = np.around(np.dot(output_e.transpose(), a_nodes[-l-1]), decimals=10)\n",
    "            d_b[-l] = output_e\n",
    "            '''\n",
    "            if np.isnan(d_w[-l]).any():\n",
    "                print(\"layer: \", -l)\n",
    "                print(\"z_nodes: \", z_nodes[-l])\n",
    "                print(\"weight: \", self.weights[-l+1])\n",
    "                print(\"output_e: \", output_e)\n",
    "                print(\"a_nodes: \", a_nodes[-l-1])\n",
    "                print(\"d_w: \",d_w[-l])\n",
    "                return -1\n",
    "            '''\n",
    "        self.iterate += 1\n",
    "        return d_w, d_b \n",
    "                  \n",
    "    def feedforward(self, input_node):\n",
    "        # Take in a training example\n",
    "        # output the z and a for each layer\n",
    "        node = np.expand_dims(input_node,0)\n",
    "        z = []\n",
    "        a = [node]\n",
    "        for w,b in zip(self.weights, self.biases):\n",
    "            node = np.around((np.dot(node, w.transpose())+b), decimals=10)\n",
    "            z.append(node)\n",
    "            node = np.around(self.sigmoid(node), decimals=10)\n",
    "            a.append(node)\n",
    "            #if np.isnan(node).any():\n",
    "                #print(\"a: {}\".format(node))\n",
    "        return z, a\n",
    "    \n",
    "    def cost(self, output_node, label):\n",
    "        co = 1/2*(output_node-label)**2\n",
    "        if (self.iterate%100) == 0:\n",
    "            print(co)\n",
    "        self.c.append(co.mean())\n",
    "    \n",
    "    def get_cost(self):\n",
    "        return self.c\n",
    "    \n",
    "    def delta_cost(self,output_node, label):\n",
    "        error = (output_node-label)\n",
    "        return error\n",
    "    \n",
    "    def sigmoid(self, z):\n",
    "        a = np.around((1/(1+np.exp(-z))), decimals=10)\n",
    "        return a\n",
    "    \n",
    "    def d_sigmoid(self, z):\n",
    "        d_a = np.around((np.exp(-z)/((1+np.exp(-z))**2)), decimals=10)\n",
    "        return d_a\n",
    "    \n",
    "    def plot_cost(self):\n",
    "        print(\"len: {}\", len(self.c))\n",
    "        plt.plot(len(self.c), self.c, 'ro')\n",
    "        plt.show()\n",
    "        \n",
    "    def evaluation(self, data):\n",
    "        correct = 0\n",
    "        wrong = 0\n",
    "        for x,y in data:\n",
    "            z,a = self.feedforward(x)\n",
    "            y_prime = a[-1].squeeze()\n",
    "            \n",
    "            if np.allclose(y_prime, y):\n",
    "                correct +=1\n",
    "            else:\n",
    "                wrong += 1\n",
    "        accuracy = correct/len(data)\n",
    "        print(\"correct prediction: {} Accuracy: {}\".format(correct, accuracy))\n",
    "            "
   ]
  },
  {
   "cell_type": "code",
   "execution_count": 9,
   "id": "348b361b",
   "metadata": {},
   "outputs": [],
   "source": [
    "(train_X, train_Y), (test_X, test_Y) = mnist.load_data()"
   ]
  },
  {
   "cell_type": "code",
   "execution_count": 49,
   "id": "6d7a83f0",
   "metadata": {},
   "outputs": [],
   "source": [
    "train_x = np.zeros((train_X.shape[0], train_X.shape[1]**2))\n",
    "train_y = np.zeros((train_Y.shape[0], 10))\n",
    "test_x = np.zeros((test_X.shape[0], test_X.shape[1]**2)) \n",
    "test_y = np.zeros((test_Y.shape[0], 10))\n",
    "\n",
    "\n",
    "for i in range(len(train_x)):\n",
    "    x = np.array([train_X[i].ravel()])\n",
    "    x = np.ma.log(x)\n",
    "    x = x.filled(0)\n",
    "    train_x[i] = x\n",
    "\n",
    "for i in range(len(train_Y)):\n",
    "    temp = np.zeros(10)\n",
    "    temp[train_Y[i]] = 1\n",
    "    train_y[i] = temp\n",
    "training_data = [[x,y] for x,y in zip(train_x,train_y)]\n",
    "\n",
    "\n",
    "for i in range(len(test_x)):\n",
    "    test_x[i] = np.array([test_X[i].ravel()])\n",
    "\n",
    "for i in range(len(test_Y)):\n",
    "    temp = np.zeros(10)\n",
    "    temp[test_Y[i]] = 1\n",
    "    test_y[i] = temp\n",
    "test_data = [[x,y] for x,y in zip(test_x,test_y)]"
   ]
  },
  {
   "cell_type": "code",
   "execution_count": 51,
   "id": "24684b71",
   "metadata": {},
   "outputs": [],
   "source": [
    "network = [784,25,25,10]\n",
    "epochs = 15\n",
    "mini_batch_size = 500\n",
    "learing_rate = 0.01"
   ]
  },
  {
   "cell_type": "code",
   "execution_count": 59,
   "id": "d9aa075d",
   "metadata": {},
   "outputs": [
    {
     "name": "stdout",
     "output_type": "stream",
     "text": [
      "epochs: 0/15\n",
      "epochs: 1/15\n",
      "epochs: 2/15\n",
      "epochs: 3/15\n",
      "epochs: 4/15\n",
      "epochs: 5/15\n",
      "epochs: 6/15\n",
      "epochs: 7/15\n",
      "epochs: 8/15\n",
      "epochs: 9/15\n",
      "epochs: 10/15\n",
      "epochs: 11/15\n",
      "epochs: 12/15\n",
      "epochs: 13/15\n",
      "epochs: 14/15\n"
     ]
    }
   ],
   "source": [
    "handwritten_digit_network = Neural_Network(network)\n",
    "\n",
    "handwritten_digit_network.SDG(training_data, epochs, mini_batch_size, learing_rate)"
   ]
  },
  {
   "cell_type": "code",
   "execution_count": 60,
   "id": "fe4293c7",
   "metadata": {},
   "outputs": [],
   "source": [
    "w, b = handwritten_digit_network.get_wb()"
   ]
  },
  {
   "cell_type": "code",
   "execution_count": 62,
   "id": "3d5beec3",
   "metadata": {},
   "outputs": [],
   "source": [
    "for i in range(len(test_x)):\n",
    "    x = np.array([test_X[i].ravel()])\n",
    "    x = np.ma.log(x)\n",
    "    x = x.filled(0)\n",
    "    test_x[i] = x\n",
    "\n",
    "for i in range(len(test_Y)):\n",
    "    temp = np.zeros(10)\n",
    "    temp[test_Y[i]] = 1\n",
    "    test_y[i] = temp\n",
    "test_data = [[x,y] for x,y in zip(test_x,test_y)]"
   ]
  },
  {
   "cell_type": "code",
   "execution_count": 74,
   "id": "b2dfdc02",
   "metadata": {},
   "outputs": [
    {
     "data": {
      "text/plain": [
       "100"
      ]
     },
     "execution_count": 74,
     "metadata": {},
     "output_type": "execute_result"
    }
   ],
   "source": [
    "len(test_data[:100])"
   ]
  },
  {
   "cell_type": "code",
   "execution_count": 76,
   "id": "a39c1cbc",
   "metadata": {},
   "outputs": [
    {
     "name": "stdout",
     "output_type": "stream",
     "text": [
      "accuracy:  87 1000\n"
     ]
    }
   ],
   "source": [
    "correct = 0\n",
    "for i in range(len(test_data[:1000])):\n",
    "    x = test_data[i][0]\n",
    "    y = test_data[i][1]\n",
    "    a,z = handwritten_digit_network.feedforward(x)\n",
    "    x_out = a[-1]\n",
    "    if np.argmax(x_out) == np.argmax(y):\n",
    "        correct +=1\n",
    "print(\"accuracy: \", correct, len(test_data[:1000]))"
   ]
  },
  {
   "cell_type": "code",
   "execution_count": 8,
   "id": "3baaed1a",
   "metadata": {},
   "outputs": [
    {
     "ename": "NameError",
     "evalue": "name 'training_data' is not defined",
     "output_type": "error",
     "traceback": [
      "\u001b[0;31m---------------------------------------------------------------------------\u001b[0m",
      "\u001b[0;31mNameError\u001b[0m                                 Traceback (most recent call last)",
      "\u001b[0;32m/tmp/ipykernel_6902/10203380.py\u001b[0m in \u001b[0;36m<module>\u001b[0;34m\u001b[0m\n\u001b[0;32m----> 1\u001b[0;31m \u001b[0;32mfor\u001b[0m \u001b[0mdata\u001b[0m \u001b[0;32min\u001b[0m \u001b[0mtraining_data\u001b[0m\u001b[0;34m:\u001b[0m\u001b[0;34m\u001b[0m\u001b[0;34m\u001b[0m\u001b[0m\n\u001b[0m\u001b[1;32m      2\u001b[0m     \u001b[0mz\u001b[0m\u001b[0;34m,\u001b[0m\u001b[0ma\u001b[0m \u001b[0;34m=\u001b[0m \u001b[0mnn\u001b[0m\u001b[0;34m.\u001b[0m\u001b[0mfeedforward\u001b[0m\u001b[0;34m(\u001b[0m\u001b[0mdata\u001b[0m\u001b[0;34m[\u001b[0m\u001b[0;36m0\u001b[0m\u001b[0;34m]\u001b[0m\u001b[0;34m)\u001b[0m\u001b[0;34m\u001b[0m\u001b[0;34m\u001b[0m\u001b[0m\n\u001b[1;32m      3\u001b[0m     \u001b[0moutput_e\u001b[0m \u001b[0;34m=\u001b[0m \u001b[0mnn\u001b[0m\u001b[0;34m.\u001b[0m\u001b[0mdelta_cost\u001b[0m\u001b[0;34m(\u001b[0m\u001b[0ma\u001b[0m\u001b[0;34m[\u001b[0m\u001b[0;34m-\u001b[0m\u001b[0;36m1\u001b[0m\u001b[0;34m]\u001b[0m\u001b[0;34m,\u001b[0m \u001b[0mdata\u001b[0m\u001b[0;34m[\u001b[0m\u001b[0;36m1\u001b[0m\u001b[0;34m]\u001b[0m\u001b[0;34m)\u001b[0m\u001b[0;34m*\u001b[0m\u001b[0mnn\u001b[0m\u001b[0;34m.\u001b[0m\u001b[0md_sigmoid\u001b[0m\u001b[0;34m(\u001b[0m\u001b[0mz\u001b[0m\u001b[0;34m[\u001b[0m\u001b[0;34m-\u001b[0m\u001b[0;36m1\u001b[0m\u001b[0;34m]\u001b[0m\u001b[0;34m)\u001b[0m\u001b[0;34m\u001b[0m\u001b[0;34m\u001b[0m\u001b[0m\n\u001b[1;32m      4\u001b[0m     \u001b[0md_w\u001b[0m \u001b[0;34m=\u001b[0m \u001b[0mnp\u001b[0m\u001b[0;34m.\u001b[0m\u001b[0mdot\u001b[0m\u001b[0;34m(\u001b[0m\u001b[0moutput_e\u001b[0m\u001b[0;34m.\u001b[0m\u001b[0mtranspose\u001b[0m\u001b[0;34m(\u001b[0m\u001b[0;34m)\u001b[0m\u001b[0;34m,\u001b[0m \u001b[0ma\u001b[0m\u001b[0;34m[\u001b[0m\u001b[0;34m-\u001b[0m\u001b[0;36m2\u001b[0m\u001b[0;34m]\u001b[0m\u001b[0;34m)\u001b[0m\u001b[0;34m\u001b[0m\u001b[0;34m\u001b[0m\u001b[0m\n\u001b[1;32m      5\u001b[0m     \u001b[0md_b\u001b[0m \u001b[0;34m=\u001b[0m \u001b[0moutput_e\u001b[0m\u001b[0;34m\u001b[0m\u001b[0;34m\u001b[0m\u001b[0m\n",
      "\u001b[0;31mNameError\u001b[0m: name 'training_data' is not defined"
     ]
    }
   ],
   "source": [
    "for data in training_data:\n",
    "    z,a = nn.feedforward(data[0])\n",
    "    output_e = nn.delta_cost(a[-1], data[1])*nn.d_sigmoid(z[-1])\n",
    "    d_w = np.dot(output_e.transpose(), a[-2])\n",
    "    d_b = output_e\n",
    "    \n",
    "    for l in range(2,4):\n",
    "        if np.isnan(d_w).any():\n",
    "            print(d_w)\n",
    "        output_e = np.dot(output_e, w[-l+1])*nn.d_sigmoid(z[-l])\n",
    "        d_w = np.dot(output_e.transpose(), a[-l-1])\n",
    "        d_b = output_e"
   ]
  },
  {
   "cell_type": "code",
   "execution_count": 38,
   "id": "8c4b5808",
   "metadata": {},
   "outputs": [
    {
     "ename": "SyntaxError",
     "evalue": "invalid syntax (702631590.py, line 1)",
     "output_type": "error",
     "traceback": [
      "\u001b[0;36m  File \u001b[0;32m\"/tmp/ipykernel_6902/702631590.py\"\u001b[0;36m, line \u001b[0;32m1\u001b[0m\n\u001b[0;31m    e = np.array([[ 0.050496   -0.03165766  0.0716049   0.09488568  0.02535765  0.00241863\u001b[0m\n\u001b[0m                                            ^\u001b[0m\n\u001b[0;31mSyntaxError\u001b[0m\u001b[0;31m:\u001b[0m invalid syntax\n"
     ]
    }
   ],
   "source": [
    "e = np.array([[ 0.050496   ,-0.03165766 , 0.0716049 ,  0.09488568 , 0.02535765,  0.00241863,\n",
    "  -0.0178089,  -0.00044482,  0.00025129,  0.00255088, -0.05742943, -0.00036819\n",
    "   0.05017959, -0.02962547, -0.00251379,  0.00545067 -0.00060663  0.0028027\n",
    "   0.01085913 -0.00759827 -0.03224925  0.0344678  -0.01500107  0.0034105\n",
    "   0.00917969]])"
   ]
  }
 ],
 "metadata": {
  "kernelspec": {
   "display_name": "Python 3 (ipykernel)",
   "language": "python",
   "name": "python3"
  },
  "language_info": {
   "codemirror_mode": {
    "name": "ipython",
    "version": 3
   },
   "file_extension": ".py",
   "mimetype": "text/x-python",
   "name": "python",
   "nbconvert_exporter": "python",
   "pygments_lexer": "ipython3",
   "version": "3.9.13"
  }
 },
 "nbformat": 4,
 "nbformat_minor": 5
}
